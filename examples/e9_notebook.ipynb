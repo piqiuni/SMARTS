{
 "cells": [
  {
   "attachments": {},
   "cell_type": "markdown",
   "metadata": {},
   "source": [
    "# SMARTS\n",
    "This example demonstrates the use of SMARTS within a Jupyter notebook."
   ]
  },
  {
   "attachments": {},
   "cell_type": "markdown",
   "metadata": {
    "id": "wkR0YvENQni4"
   },
   "source": [
    "## Setup dependencies\n",
    "Install the base SMARTS dependencies needed for the example."
   ]
  },
  {
   "cell_type": "code",
   "execution_count": 1,
   "metadata": {
    "colab": {
     "base_uri": "https://localhost:8080/"
    },
    "id": "n1sQVa5mkMEA",
    "outputId": "dbfa09f5-0fd9-4a51-f728-fc62230f1b84"
   },
   "outputs": [
    {
     "name": "stdout",
     "output_type": "stream",
     "text": [
      "Looking in indexes: https://pypi.tuna.tsinghua.edu.cn/simple\n",
      "Requirement already satisfied: smarts[camera_obs] in /home/rancho/2lidelun/SMARTS/.venv/lib/python3.8/site-packages (1.4.0)\n",
      "\u001b[33mWARNING: smarts 1.4.0 does not provide the extra 'camera-obs'\u001b[0m\u001b[33m\n",
      "\u001b[0mRequirement already satisfied: setuptools!=50.0,>=41.0.0 in /home/rancho/2lidelun/SMARTS/.venv/lib/python3.8/site-packages (from smarts[camera_obs]) (44.0.0)\n",
      "Requirement already satisfied: click>=7.1.2 in /home/rancho/2lidelun/SMARTS/.venv/lib/python3.8/site-packages (from smarts[camera_obs]) (8.1.7)\n",
      "Requirement already satisfied: numpy>=1.19.5 in /home/rancho/2lidelun/SMARTS/.venv/lib/python3.8/site-packages (from smarts[camera_obs]) (1.24.4)\n",
      "Requirement already satisfied: psutil>=5.4.8 in /home/rancho/2lidelun/SMARTS/.venv/lib/python3.8/site-packages (from smarts[camera_obs]) (5.9.6)\n",
      "Requirement already satisfied: shapely>=2.0.0 in /home/rancho/2lidelun/SMARTS/.venv/lib/python3.8/site-packages (from smarts[camera_obs]) (2.0.2)\n",
      "Requirement already satisfied: tableprint>=0.9.1 in /home/rancho/2lidelun/SMARTS/.venv/lib/python3.8/site-packages (from smarts[camera_obs]) (0.9.1)\n",
      "Requirement already satisfied: trimesh>=3.9.29 in /home/rancho/2lidelun/SMARTS/.venv/lib/python3.8/site-packages (from smarts[camera_obs]) (4.0.2)\n",
      "Requirement already satisfied: scipy in /home/rancho/2lidelun/SMARTS/.venv/lib/python3.8/site-packages (from smarts[camera_obs]) (1.10.1)\n",
      "Requirement already satisfied: yattag>=1.14.0 in /home/rancho/2lidelun/SMARTS/.venv/lib/python3.8/site-packages (from smarts[camera_obs]) (1.15.2)\n",
      "Requirement already satisfied: PyYAML>=3.13 in /home/rancho/2lidelun/SMARTS/.venv/lib/python3.8/site-packages (from smarts[camera_obs]) (6.0.1)\n",
      "Requirement already satisfied: twisted>=21.7.0 in /home/rancho/2lidelun/SMARTS/.venv/lib/python3.8/site-packages (from smarts[camera_obs]) (23.10.0)\n",
      "Requirement already satisfied: pybullet<4.0,>=3 in /home/rancho/2lidelun/SMARTS/.venv/lib/python3.8/site-packages (from smarts[camera_obs]) (3.2.5)\n",
      "Requirement already satisfied: cloudpickle>=1.3.0 in /home/rancho/2lidelun/SMARTS/.venv/lib/python3.8/site-packages (from smarts[camera_obs]) (3.0.0)\n",
      "Requirement already satisfied: Panda3D>=1.10.13 in /home/rancho/2lidelun/SMARTS/.venv/lib/python3.8/site-packages (from smarts[camera_obs]) (1.10.13)\n",
      "Requirement already satisfied: panda3d-gltf==0.13 in /home/rancho/2lidelun/SMARTS/.venv/lib/python3.8/site-packages (from smarts[camera_obs]) (0.13)\n",
      "Requirement already satisfied: panda3d-simplepbr>=0.6 in /home/rancho/2lidelun/SMARTS/.venv/lib/python3.8/site-packages (from panda3d-gltf==0.13->smarts[camera_obs]) (0.10)\n",
      "Requirement already satisfied: future in /home/rancho/2lidelun/SMARTS/.venv/lib/python3.8/site-packages (from tableprint>=0.9.1->smarts[camera_obs]) (0.18.3)\n",
      "Requirement already satisfied: wcwidth in /home/rancho/2lidelun/SMARTS/.venv/lib/python3.8/site-packages (from tableprint>=0.9.1->smarts[camera_obs]) (0.2.9)\n",
      "Requirement already satisfied: attrs>=21.3.0 in /home/rancho/2lidelun/SMARTS/.venv/lib/python3.8/site-packages (from twisted>=21.7.0->smarts[camera_obs]) (23.1.0)\n",
      "Requirement already satisfied: automat>=0.8.0 in /home/rancho/2lidelun/SMARTS/.venv/lib/python3.8/site-packages (from twisted>=21.7.0->smarts[camera_obs]) (22.10.0)\n",
      "Requirement already satisfied: constantly>=15.1 in /home/rancho/2lidelun/SMARTS/.venv/lib/python3.8/site-packages (from twisted>=21.7.0->smarts[camera_obs]) (23.10.4)\n",
      "Requirement already satisfied: hyperlink>=17.1.1 in /home/rancho/2lidelun/SMARTS/.venv/lib/python3.8/site-packages (from twisted>=21.7.0->smarts[camera_obs]) (21.0.0)\n",
      "Requirement already satisfied: incremental>=22.10.0 in /home/rancho/2lidelun/SMARTS/.venv/lib/python3.8/site-packages (from twisted>=21.7.0->smarts[camera_obs]) (22.10.0)\n",
      "Requirement already satisfied: typing-extensions>=4.2.0 in /home/rancho/2lidelun/SMARTS/.venv/lib/python3.8/site-packages (from twisted>=21.7.0->smarts[camera_obs]) (4.8.0)\n",
      "Requirement already satisfied: zope-interface>=5 in /home/rancho/2lidelun/SMARTS/.venv/lib/python3.8/site-packages (from twisted>=21.7.0->smarts[camera_obs]) (6.1)\n",
      "Requirement already satisfied: six in /home/rancho/2lidelun/SMARTS/.venv/lib/python3.8/site-packages (from automat>=0.8.0->twisted>=21.7.0->smarts[camera_obs]) (1.16.0)\n",
      "Requirement already satisfied: idna>=2.5 in /home/rancho/2lidelun/SMARTS/.venv/lib/python3.8/site-packages (from hyperlink>=17.1.1->twisted>=21.7.0->smarts[camera_obs]) (3.4)\n",
      "Note: you may need to restart the kernel to use updated packages.\n"
     ]
    }
   ],
   "source": [
    "# !git clone https://github.com/huawei-noah/SMARTS 2> /dev/null\n",
    "# !cd SMARTS && ls && pip install .[camera_obs]\n",
    "%pip install smarts[camera_obs]"
   ]
  },
  {
   "attachments": {},
   "cell_type": "markdown",
   "metadata": {},
   "source": [
    "## Insert Colab content directory  \n",
    "This is only necessary if running this notebook on Colab."
   ]
  },
  {
   "cell_type": "code",
   "execution_count": 2,
   "metadata": {
    "colab": {
     "base_uri": "https://localhost:8080/"
    },
    "id": "ubc6jEAqiCEq",
    "outputId": "16e9facc-86bc-4f72-a4f2-2d8bb2961435"
   },
   "outputs": [
    {
     "name": "stdout",
     "output_type": "stream",
     "text": [
      "/home/rancho/2lidelun/SMARTS/examples/SMARTS\n"
     ]
    }
   ],
   "source": [
    "import os\n",
    "import sys\n",
    "from pathlib import Path\n",
    "\n",
    "sys.path.insert(0, Path(os.path.abspath(\"\")).parents[1])\n",
    "print(Path(os.path.abspath(\"\")) / \"SMARTS\")"
   ]
  },
  {
   "attachments": {},
   "cell_type": "markdown",
   "metadata": {},
   "source": [
    "## Main\n",
    "The core example."
   ]
  },
  {
   "attachments": {},
   "cell_type": "markdown",
   "metadata": {
    "id": "s7UtcphinvNv"
   },
   "source": [
    "### Import Base Modules"
   ]
  },
  {
   "cell_type": "code",
   "execution_count": 2,
   "metadata": {
    "id": "HsnDWYx_ngdc"
   },
   "outputs": [
    {
     "name": "stderr",
     "output_type": "stream",
     "text": [
      "pybullet build time: May 20 2022 19:44:17\n"
     ]
    }
   ],
   "source": [
    "import gymnasium as gym\n",
    "\n",
    "from smarts.zoo import registry\n",
    "from smarts.env.gymnasium.wrappers.episode_logger import EpisodeLogger\n",
    "from smarts.core.utils.episodes import episode_range\n",
    "from smarts.env.gymnasium.wrappers.single_agent import SingleAgent"
   ]
  },
  {
   "attachments": {},
   "cell_type": "markdown",
   "metadata": {},
   "source": [
    "### Set up the environment"
   ]
  },
  {
   "cell_type": "code",
   "execution_count": 5,
   "metadata": {},
   "outputs": [
    {
     "ename": "TypeError",
     "evalue": "__init__() missing 2 required positional arguments: 'scenarios' and 'agent_interfaces' was raised from the environment creator for hiway-v1 with kwargs ({})",
     "output_type": "error",
     "traceback": [
      "\u001b[0;31m---------------------------------------------------------------------------\u001b[0m",
      "\u001b[0;31mTypeError\u001b[0m                                 Traceback (most recent call last)",
      "File \u001b[0;32m~/2lidelun/SMARTS/.venv/lib/python3.8/site-packages/gymnasium/envs/registration.py:802\u001b[0m, in \u001b[0;36mmake\u001b[0;34m(id, max_episode_steps, autoreset, apply_api_compatibility, disable_env_checker, **kwargs)\u001b[0m\n\u001b[1;32m    801\u001b[0m \u001b[38;5;28;01mtry\u001b[39;00m:\n\u001b[0;32m--> 802\u001b[0m     env \u001b[38;5;241m=\u001b[39m \u001b[43menv_creator\u001b[49m\u001b[43m(\u001b[49m\u001b[38;5;241;43m*\u001b[39;49m\u001b[38;5;241;43m*\u001b[39;49m\u001b[43menv_spec_kwargs\u001b[49m\u001b[43m)\u001b[49m\n\u001b[1;32m    803\u001b[0m \u001b[38;5;28;01mexcept\u001b[39;00m \u001b[38;5;167;01mTypeError\u001b[39;00m \u001b[38;5;28;01mas\u001b[39;00m e:\n",
      "\u001b[0;31mTypeError\u001b[0m: __init__() missing 2 required positional arguments: 'scenarios' and 'agent_interfaces'",
      "\nDuring handling of the above exception, another exception occurred:\n",
      "\u001b[0;31mTypeError\u001b[0m                                 Traceback (most recent call last)",
      "Cell \u001b[0;32mIn[5], line 1\u001b[0m\n\u001b[0;32m----> 1\u001b[0m env \u001b[38;5;241m=\u001b[39m \u001b[43mgym\u001b[49m\u001b[38;5;241;43m.\u001b[39;49m\u001b[43mmake\u001b[49m\u001b[43m(\u001b[49m\u001b[38;5;124;43m\"\u001b[39;49m\u001b[38;5;124;43msmarts.env:hiway-v1\u001b[39;49m\u001b[38;5;124;43m\"\u001b[39;49m\u001b[43m)\u001b[49m\n\u001b[1;32m      2\u001b[0m env \u001b[38;5;241m=\u001b[39m SingleAgent(env)\n\u001b[1;32m      3\u001b[0m env: gym\u001b[38;5;241m.\u001b[39mEnv \u001b[38;5;241m=\u001b[39m EpisodeLogger(env)\n",
      "File \u001b[0;32m~/2lidelun/SMARTS/.venv/lib/python3.8/site-packages/gymnasium/envs/registration.py:814\u001b[0m, in \u001b[0;36mmake\u001b[0;34m(id, max_episode_steps, autoreset, apply_api_compatibility, disable_env_checker, **kwargs)\u001b[0m\n\u001b[1;32m    808\u001b[0m         \u001b[38;5;28;01mraise\u001b[39;00m error\u001b[38;5;241m.\u001b[39mError(\n\u001b[1;32m    809\u001b[0m             \u001b[38;5;124mf\u001b[39m\u001b[38;5;124m\"\u001b[39m\u001b[38;5;124mYou passed render_mode=\u001b[39m\u001b[38;5;124m'\u001b[39m\u001b[38;5;124mhuman\u001b[39m\u001b[38;5;124m'\u001b[39m\u001b[38;5;124m although \u001b[39m\u001b[38;5;132;01m{\u001b[39;00menv_spec\u001b[38;5;241m.\u001b[39mid\u001b[38;5;132;01m}\u001b[39;00m\u001b[38;5;124m doesn\u001b[39m\u001b[38;5;124m'\u001b[39m\u001b[38;5;124mt implement human-rendering natively. \u001b[39m\u001b[38;5;124m\"\u001b[39m\n\u001b[1;32m    810\u001b[0m             \u001b[38;5;124m\"\u001b[39m\u001b[38;5;124mGym tried to apply the HumanRendering wrapper but it looks like your environment is using the old \u001b[39m\u001b[38;5;124m\"\u001b[39m\n\u001b[1;32m    811\u001b[0m             \u001b[38;5;124m\"\u001b[39m\u001b[38;5;124mrendering API, which is not supported by the HumanRendering wrapper.\u001b[39m\u001b[38;5;124m\"\u001b[39m\n\u001b[1;32m    812\u001b[0m         ) \u001b[38;5;28;01mfrom\u001b[39;00m \u001b[38;5;21;01me\u001b[39;00m\n\u001b[1;32m    813\u001b[0m     \u001b[38;5;28;01melse\u001b[39;00m:\n\u001b[0;32m--> 814\u001b[0m         \u001b[38;5;28;01mraise\u001b[39;00m \u001b[38;5;28mtype\u001b[39m(e)(\n\u001b[1;32m    815\u001b[0m             \u001b[38;5;124mf\u001b[39m\u001b[38;5;124m\"\u001b[39m\u001b[38;5;132;01m{\u001b[39;00me\u001b[38;5;132;01m}\u001b[39;00m\u001b[38;5;124m was raised from the environment creator for \u001b[39m\u001b[38;5;132;01m{\u001b[39;00menv_spec\u001b[38;5;241m.\u001b[39mid\u001b[38;5;132;01m}\u001b[39;00m\u001b[38;5;124m with kwargs (\u001b[39m\u001b[38;5;132;01m{\u001b[39;00menv_spec_kwargs\u001b[38;5;132;01m}\u001b[39;00m\u001b[38;5;124m)\u001b[39m\u001b[38;5;124m\"\u001b[39m\n\u001b[1;32m    816\u001b[0m         )\n\u001b[1;32m    818\u001b[0m \u001b[38;5;66;03m# Set the minimal env spec for the environment.\u001b[39;00m\n\u001b[1;32m    819\u001b[0m env\u001b[38;5;241m.\u001b[39munwrapped\u001b[38;5;241m.\u001b[39mspec \u001b[38;5;241m=\u001b[39m EnvSpec(\n\u001b[1;32m    820\u001b[0m     \u001b[38;5;28mid\u001b[39m\u001b[38;5;241m=\u001b[39menv_spec\u001b[38;5;241m.\u001b[39mid,\n\u001b[1;32m    821\u001b[0m     entry_point\u001b[38;5;241m=\u001b[39menv_spec\u001b[38;5;241m.\u001b[39mentry_point,\n\u001b[0;32m   (...)\u001b[0m\n\u001b[1;32m    831\u001b[0m     vector_entry_point\u001b[38;5;241m=\u001b[39menv_spec\u001b[38;5;241m.\u001b[39mvector_entry_point,\n\u001b[1;32m    832\u001b[0m )\n",
      "\u001b[0;31mTypeError\u001b[0m: __init__() missing 2 required positional arguments: 'scenarios' and 'agent_interfaces' was raised from the environment creator for hiway-v1 with kwargs ({})"
     ]
    }
   ],
   "source": [
    "env = gym.make(\"smarts.env:hiway-v1\")\n",
    "env = SingleAgent(env)\n",
    "env: gym.Env = EpisodeLogger(env)"
   ]
  },
  {
   "attachments": {},
   "cell_type": "markdown",
   "metadata": {},
   "source": [
    "### Set up the agent"
   ]
  },
  {
   "cell_type": "code",
   "execution_count": 4,
   "metadata": {},
   "outputs": [],
   "source": [
    "import zoo.policies.keep_lane_agent\n",
    "\n",
    "agent, _ = registry.make_agent(\"zoo.policies:keep-lane-agent-v0\")"
   ]
  },
  {
   "attachments": {},
   "cell_type": "markdown",
   "metadata": {
    "id": "LFoG7Z-FobPP"
   },
   "source": [
    "### Run the experiment"
   ]
  },
  {
   "cell_type": "code",
   "execution_count": null,
   "metadata": {
    "colab": {
     "base_uri": "https://localhost:8080/",
     "height": 501
    },
    "id": "BBWj3wbAso3J",
    "outputId": "63c1d665-b4a5-43b5-d926-b02b5bcce08f"
   },
   "outputs": [],
   "source": [
    "for episode in episode_range(max_steps=450):\n",
    "    observation = env.reset()\n",
    "    reward, terminated, truncated, info = None, False, False, None\n",
    "    while episode.continues(observation, reward, terminated, truncated, info):\n",
    "        action = agent.act(observation)\n",
    "        observation, reward, terminated, info = env.step(action)"
   ]
  },
  {
   "attachments": {},
   "cell_type": "markdown",
   "metadata": {},
   "source": [
    "### Close the environment"
   ]
  },
  {
   "cell_type": "code",
   "execution_count": null,
   "metadata": {},
   "outputs": [],
   "source": [
    "env.close()"
   ]
  }
 ],
 "metadata": {
  "colab": {
   "name": "mock_demo.ipynb",
   "provenance": []
  },
  "kernelspec": {
   "display_name": ".venv",
   "language": "python",
   "name": "python3"
  },
  "language_info": {
   "codemirror_mode": {
    "name": "ipython",
    "version": 3
   },
   "file_extension": ".py",
   "mimetype": "text/x-python",
   "name": "python",
   "nbconvert_exporter": "python",
   "pygments_lexer": "ipython3",
   "version": "3.8.10"
  },
  "vscode": {
   "interpreter": {
    "hash": "983a288b1deae516b5d1a3268f286490dc1a3bd215a042403a142fb3df5f8acd"
   }
  }
 },
 "nbformat": 4,
 "nbformat_minor": 0
}
